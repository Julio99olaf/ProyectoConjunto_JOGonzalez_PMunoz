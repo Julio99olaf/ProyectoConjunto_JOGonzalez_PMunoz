{
 "cells": [
  {
   "cell_type": "markdown",
   "metadata": {},
   "source": [
    "# Tarea 1"
   ]
  },
  {
   "cell_type": "markdown",
   "metadata": {},
   "source": [
    "## Expectativa del curso\n",
    "\n",
    "- Mis expectativas del curso es llevar mis conocimientos de programación más avanzada, para poder aprender a desarrollar simulaciones en jupyter con mayor calidad de trabajo, a su vez desarrollar nuevas habilidades de programación para la solución de problemas matemáticos.\n",
    "\n",
    "        - Julio Olaf Gonzalez Guzman"
   ]
  },
  {
   "cell_type": "code",
   "execution_count": 5,
   "metadata": {},
   "outputs": [],
   "source": [
    "# Tu expectativa del curso pablo"
   ]
  },
  {
   "cell_type": "markdown",
   "metadata": {},
   "source": [
    "### Transcripción  de la figura 1\n",
    "  | i | x     | f(x)   |\n",
    "  |---|-------|--------|\n",
    "  | 0 | -1    | 0.3678 |\n",
    "  | $\\color{red} {1}$ | $\\color{red} {-0.5}$  | $\\color{red} {0.7788}$ |\n",
    "  | $\\color{blue} {2}$ | $\\color{blue} {0}$     | $\\color{blue} {1}$      |\n",
    "  | $\\color{red} {3}$ | $\\color{red} {0.5}$    | $\\color{red} {0.7788}$ |\n",
    "  | 4 | 1     | 0.3678 |\n",
    "  \n",
    "  \n",
    "  <center>Cuadro 1: Tabla de valores de f(x)\n",
    "    \n",
    "\n",
    "                                                                                                  Julio Olaf González Guzmán"
   ]
  },
  {
   "cell_type": "markdown",
   "metadata": {},
   "source": [
    "<center> $\\int_{-1}^{1} e^{-x^{2}} dx \\approx \\frac{0,5}{3} [f(-1)+f(1)+4(\\color{red}{f(-0.5)+f(0.5)})+2\\color{blue}{f(0)}] \\approx \\frac{0,5}{3} [0.3678 + 0.3678 +4(\\color{red}{0.7788+0.7788}))+2*\\color{blue}{1}] \\approx 1.4943$ </center>\n",
    "\n",
    "\n",
    "                                                                                                  Julio Olaf González Guzmán"
   ]
  },
  {
   "cell_type": "markdown",
   "metadata": {},
   "source": [
    "<center> A modo de verificación, calculará por software, el valor del área para n = 100, un valor mucho más elevado al que se utilizó anteriormente. Si lo calculamos previamente es correcto, se experaría que sea próximo al valor presentado a continuación para ser una buena aproximación. </center>\n",
    "\n",
    "                                                                                                  Julio Olaf González Guzmán"
   ]
  },
  {
   "cell_type": "markdown",
   "metadata": {},
   "source": [
    "<center> $\\int_{-1}^{1} e^{-x^{2}} dx \\approx 1.4936$ </center>\n",
    "\n",
    "\n",
    "                                                                                                  Julio Olaf González Guzmán"
   ]
  }
 ],
 "metadata": {
  "kernelspec": {
   "display_name": "Python 3",
   "language": "python",
   "name": "python3"
  },
  "language_info": {
   "codemirror_mode": {
    "name": "ipython",
    "version": 3
   },
   "file_extension": ".py",
   "mimetype": "text/x-python",
   "name": "python",
   "nbconvert_exporter": "python",
   "pygments_lexer": "ipython3",
   "version": "3.7.4"
  }
 },
 "nbformat": 4,
 "nbformat_minor": 2
}
