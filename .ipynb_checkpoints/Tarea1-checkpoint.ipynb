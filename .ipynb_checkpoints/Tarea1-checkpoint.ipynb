{
 "cells": [
  {
   "cell_type": "markdown",
   "metadata": {},
   "source": [
    "# Tarea 1"
   ]
  },
  {
   "cell_type": "markdown",
   "metadata": {},
   "source": [
    "## Expectativa del curso\n",
    "\n",
    "- Mis expectativas del curso es llevar mis conocimientos de programación más avanzada, para poder aprender a desarrollar simulaciones en jupyter con mayor calidad de trabajo, a su vez desarrollar nuevas habilidades de programación para la solución de problemas matemáticos.\n",
    "\n",
    "        - Julio Olaf Gonzalez Guzman"
   ]
  },
  {
   "cell_type": "markdown",
   "metadata": {},
   "source": [
    "- Yo espero elevar mis conocimientos de programación a un nivel avanzado. Me gustaría poder desarrollar modelos que ayuden a predecir situaciones evitando alto riesgo y proyectando buenos rendimientos. Además de que es una habilidad que me gustaría dominar ya que es una herramienta importante en este siglo 21 no solo en las finanzas.\n",
    "\n",
    "        -Pablo Humberto Muñoz Cuevas"
   ]
  },
  {
   "cell_type": "markdown",
   "metadata": {},
   "source": [
    "### Transcripción  de la figura 1\n",
    "  | i | x     | f(x)   |\n",
    "  |---|-------|--------|\n",
    "  | 0 | -1    | 0.3678 |\n",
    "  | $\\color{red} {1}$ | $\\color{red} {-0.5}$  | $\\color{red} {0.7788}$ |\n",
    "  | $\\color{blue} {2}$ | $\\color{blue} {0}$     | $\\color{blue} {1}$      |\n",
    "  | $\\color{red} {3}$ | $\\color{red} {0.5}$    | $\\color{red} {0.7788}$ |\n",
    "  | 4 | 1     | 0.3678 |\n",
    "  \n",
    "  \n",
    "  <center>Cuadro 1: Tabla de valores de f(x)\n",
    "\n",
    "                                                                                                  Julio Olaf González Guzmán"
   ]
  },
  {
   "cell_type": "markdown",
   "metadata": {},
   "source": [
    "$\\int_{-1}^{1} e^{-x^{2}} dx \\approx \\frac{0,5}{3} [f(-1)+f(1)+4(\\color{red}{f(-0.5)+f(0.5)})+2\\color{blue}{f(0)}] \\approx \\frac{0,5}{3} [0.3678 + 0.3678 +4(\\color{red}{0.7788+0.7788}))+2*\\color{blue}{1}] \\approx 1.4943$\n",
    "\n",
    "\n",
    "                                                                                                  Julio Olaf González Guzmán"
   ]
  },
  {
   "cell_type": "markdown",
   "metadata": {},
   "source": [
    "A modo de verificación, calculará por software, el valor del área para n = 100, un valor mucho más elevado al que se utilizó anteriormente. Si lo calculamos previamente es correcto, se experaría que sea próximo al valor presentado a continuación para ser una buena aproximación. \n",
    "\n",
    "                                                                                                 Julio Olaf González Guzmán"
   ]
  },
  {
   "cell_type": "markdown",
   "metadata": {},
   "source": [
    "$\\int_{-1}^{1} e^{-x^{2}} dx \\approx 1.4936$ \n",
    "\n",
    "\n",
    "                                                                                                  Julio Olaf González Guzmán"
   ]
  },
  {
   "cell_type": "markdown",
   "metadata": {},
   "source": [
    "### Transcripción  de la figura 2 \n",
    "\n",
    "\n",
    "\n",
    "|   i                  | 1 | 2 | 3 | 4 | 5 | 6 | 7 |   \n",
    "|----------------------|---|---|---|---|---|---|---|\n",
    "| *$E_{v}$ ( V)*       | 12| 10| 24| 12| - | - |  -|\n",
    "|*$r_{i}$ $(\\Omega $)* | 0.1 | 0.5 | 0.2 | 0.5 | - | - | - |\n",
    "|*$R_{i}$ $(\\Omega $)* |  25| 40 | 16 | 20 | 9 | 4 | 20 |\n"
   ]
  },
  {
   "cell_type": "markdown",
   "metadata": {},
   "source": [
    "$\\color{blue} {Kemna y Vorst (1990)}$ muestran que las opciones asiáticas con media geométrica continua se pueden valuar con el mismo enfoque de las opciones *plain vanilla*, solo se deben cambiar los parámetros de volatilidad $\\sigma$ por $\\sigma_a$, y el costo de acarreo *$b$* por *$b_A$*.\n",
    "\n",
    "De acuerdo con Kemna y Vorst, las fórmulas para valuar una opción de compra y una opción de venta son: "
   ]
  },
  {
   "cell_type": "markdown",
   "metadata": {},
   "source": [
    "$        c  \\approx  S_{t} e^{(b_A - r)(T-t)}\\Phi (d_1) - Ke^{-r(T-t)}\\Phi(d_2)$\n",
    "\n",
    "$        p  \\approx  Ke^{-r(T-t)}\\Phi(-d_2) - S_{t} e^{(b_A - r)(T-t)}\\Phi (-d_1)$\n",
    "                                                                                                 \n",
    "                                                                                                 (3)"
   ]
  },
  {
   "cell_type": "markdown",
   "metadata": {},
   "source": [
    "con *$d1$* y *$d2$*  dados por :\n",
    "\n",
    "$ d_1 \\equiv \\frac{\\ln(\\frac{S_{t}}{K}) + (b_a + \\frac{1}{2\\sigma_a^2}) (T - t)}{\\sigma\\sqrt{T - t}},$\n",
    "\n",
    "$ d_2 \\equiv *$d1$* - \\sigma_a \\sqrt{T - t} $\n",
    "\n",
    "                                                                                                (4)"
   ]
  },
  {
   "cell_type": "markdown",
   "metadata": {},
   "source": [
    "La función $\\Phi$(d) es la función de distribución acumulada de *$E$* ~ $\\mathcal{N}(0,1)$. La volatilidad ajustada es igual a:\n",
    "\n",
    "$\\sigma_a = \\frac{\\sigma}{\\sqrt{3}}, $\n",
    "\n",
    "mientras que el costo de acarreo ajustado es:\n",
    "\n",
    "$b_A = \\frac{1}{2} (\\upsilon - \\frac{\\sigma^2}{6}). $\n",
    "\n",
    "                                                                                                 Pablo Humberto Muñoz Cuevas"
   ]
  },
  {
   "cell_type": "code",
   "execution_count": null,
   "metadata": {},
   "outputs": [],
   "source": []
  }
 ],
 "metadata": {
  "kernelspec": {
   "display_name": "Python 3",
   "language": "python",
   "name": "python3"
  },
  "language_info": {
   "codemirror_mode": {
    "name": "ipython",
    "version": 3
   },
   "file_extension": ".py",
   "mimetype": "text/x-python",
   "name": "python",
   "nbconvert_exporter": "python",
   "pygments_lexer": "ipython3",
   "version": "3.7.4"
  }
 },
 "nbformat": 4,
 "nbformat_minor": 2
}
