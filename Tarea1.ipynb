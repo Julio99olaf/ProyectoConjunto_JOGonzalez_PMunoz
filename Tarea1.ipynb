{
 "cells": [
  {
   "cell_type": "markdown",
   "metadata": {},
   "source": [
    "# Tarea 1"
   ]
  },
  {
   "cell_type": "markdown",
   "metadata": {},
   "source": [
    "## Expectativa del curso\n",
    "\n",
    "- Mis expectativas del curso es llevar mis conocimientos de programación mas avanzada, para poder aprender a desarrollar simulaciones en jupyter con mayor calidad de trabajo, a su vez desarrollar nuevas habilidades de programacion para la solucion de problemas matematicos. \n",
    "        - Julio Olaf Gonzale"
   ]
  },
  {
   "cell_type": "code",
   "execution_count": null,
   "metadata": {},
   "outputs": [],
   "source": []
  }
 ],
 "metadata": {
  "kernelspec": {
   "display_name": "Python 3",
   "language": "python",
   "name": "python3"
  },
  "language_info": {
   "codemirror_mode": {
    "name": "ipython",
    "version": 3
   },
   "file_extension": ".py",
   "mimetype": "text/x-python",
   "name": "python",
   "nbconvert_exporter": "python",
   "pygments_lexer": "ipython3",
   "version": "3.7.4"
  }
 },
 "nbformat": 4,
 "nbformat_minor": 2
}
